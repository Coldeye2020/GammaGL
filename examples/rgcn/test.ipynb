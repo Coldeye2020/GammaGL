{
 "cells": [
  {
   "cell_type": "code",
   "execution_count": 22,
   "metadata": {},
   "outputs": [],
   "source": [
    "import os\n",
    "os.environ['TL_BACKEND'] = 'torch'  # set your backend here, default `tensorflow`\n",
    "import sys\n",
    "sys.path.insert(0, os.path.abspath('../../'))  # adds path2gammagl to execute in command line.\n",
    "import torch\n",
    "import tensorlayerx as tlx\n",
    "from gammagl.datasets import Entities\n",
    "import torch_geometric as pyg\n",
    "from gammagl.loader.Neighbour_sampler import Neighbor_Sampler"
   ]
  },
  {
   "cell_type": "code",
   "execution_count": 26,
   "metadata": {},
   "outputs": [],
   "source": [
    "dataset = Entities('datasets/Entities','aifb', hetero=False)\n",
    "dataset2 = pyg.datasets.Entities('datasets/Entities_PyG','aifb', hetero=False)"
   ]
  },
  {
   "cell_type": "code",
   "execution_count": 27,
   "metadata": {},
   "outputs": [],
   "source": [
    "hgraph = dataset[0]\n",
    "hgraph2 = dataset2[0]"
   ]
  },
  {
   "cell_type": "code",
   "execution_count": 28,
   "metadata": {},
   "outputs": [
    {
     "ename": "TypeError",
     "evalue": "__init__() missing 2 required positional arguments: 'dst_nodes' and 'sample_lists'",
     "output_type": "error",
     "traceback": [
      "\u001b[0;31m---------------------------------------------------------------------------\u001b[0m",
      "\u001b[0;31mTypeError\u001b[0m                                 Traceback (most recent call last)",
      "\u001b[1;32m/Users/coldeye/git_repo/GammaGL/examples/rgcn/test.ipynb Cell 4'\u001b[0m in \u001b[0;36m<cell line: 1>\u001b[0;34m()\u001b[0m\n\u001b[0;32m----> <a href='vscode-notebook-cell:/Users/coldeye/git_repo/GammaGL/examples/rgcn/test.ipynb#ch0000003?line=0'>1</a>\u001b[0m dl \u001b[39m=\u001b[39m Neighbor_Sampler(hgraph, )\n",
      "\u001b[0;31mTypeError\u001b[0m: __init__() missing 2 required positional arguments: 'dst_nodes' and 'sample_lists'"
     ]
    }
   ],
   "source": [
    "dl = Neighbor_Sampler(hgraph.edge_index, )"
   ]
  },
  {
   "cell_type": "code",
   "execution_count": 20,
   "metadata": {},
   "outputs": [
    {
     "data": {
      "text/plain": [
       "HeteroData(\n",
       "  \u001b[1mv\u001b[0m={\n",
       "    num_nodes=8285,\n",
       "    train_idx=[140],\n",
       "    train_y=[140],\n",
       "    test_idx=[36],\n",
       "    test_y=[36]\n",
       "  },\n",
       "  \u001b[1m(v, 0, v)\u001b[0m={ edge_index=[2, 4163] },\n",
       "  \u001b[1m(v, 1, v)\u001b[0m={ edge_index=[2, 4163] },\n",
       "  \u001b[1m(v, 2, v)\u001b[0m={ edge_index=[2, 4124] },\n",
       "  \u001b[1m(v, 3, v)\u001b[0m={ edge_index=[2, 4124] },\n",
       "  \u001b[1m(v, 4, v)\u001b[0m={ edge_index=[2, 3986] },\n",
       "  \u001b[1m(v, 5, v)\u001b[0m={ edge_index=[2, 3986] },\n",
       "  \u001b[1m(v, 6, v)\u001b[0m={ edge_index=[2, 2477] },\n",
       "  \u001b[1m(v, 7, v)\u001b[0m={ edge_index=[2, 2477] },\n",
       "  \u001b[1m(v, 8, v)\u001b[0m={ edge_index=[2, 1302] },\n",
       "  \u001b[1m(v, 9, v)\u001b[0m={ edge_index=[2, 1302] },\n",
       "  \u001b[1m(v, 10, v)\u001b[0m={ edge_index=[2, 1227] },\n",
       "  \u001b[1m(v, 11, v)\u001b[0m={ edge_index=[2, 1227] },\n",
       "  \u001b[1m(v, 12, v)\u001b[0m={ edge_index=[2, 1227] },\n",
       "  \u001b[1m(v, 13, v)\u001b[0m={ edge_index=[2, 1227] },\n",
       "  \u001b[1m(v, 14, v)\u001b[0m={ edge_index=[2, 1217] },\n",
       "  \u001b[1m(v, 15, v)\u001b[0m={ edge_index=[2, 1217] },\n",
       "  \u001b[1m(v, 16, v)\u001b[0m={ edge_index=[2, 952] },\n",
       "  \u001b[1m(v, 17, v)\u001b[0m={ edge_index=[2, 952] },\n",
       "  \u001b[1m(v, 18, v)\u001b[0m={ edge_index=[2, 952] },\n",
       "  \u001b[1m(v, 19, v)\u001b[0m={ edge_index=[2, 952] },\n",
       "  \u001b[1m(v, 20, v)\u001b[0m={ edge_index=[2, 765] },\n",
       "  \u001b[1m(v, 21, v)\u001b[0m={ edge_index=[2, 765] },\n",
       "  \u001b[1m(v, 22, v)\u001b[0m={ edge_index=[2, 759] },\n",
       "  \u001b[1m(v, 23, v)\u001b[0m={ edge_index=[2, 759] },\n",
       "  \u001b[1m(v, 24, v)\u001b[0m={ edge_index=[2, 571] },\n",
       "  \u001b[1m(v, 25, v)\u001b[0m={ edge_index=[2, 571] },\n",
       "  \u001b[1m(v, 26, v)\u001b[0m={ edge_index=[2, 548] },\n",
       "  \u001b[1m(v, 27, v)\u001b[0m={ edge_index=[2, 548] },\n",
       "  \u001b[1m(v, 28, v)\u001b[0m={ edge_index=[2, 534] },\n",
       "  \u001b[1m(v, 29, v)\u001b[0m={ edge_index=[2, 534] },\n",
       "  \u001b[1m(v, 30, v)\u001b[0m={ edge_index=[2, 357] },\n",
       "  \u001b[1m(v, 31, v)\u001b[0m={ edge_index=[2, 357] },\n",
       "  \u001b[1m(v, 32, v)\u001b[0m={ edge_index=[2, 339] },\n",
       "  \u001b[1m(v, 33, v)\u001b[0m={ edge_index=[2, 339] },\n",
       "  \u001b[1m(v, 34, v)\u001b[0m={ edge_index=[2, 311] },\n",
       "  \u001b[1m(v, 35, v)\u001b[0m={ edge_index=[2, 311] },\n",
       "  \u001b[1m(v, 36, v)\u001b[0m={ edge_index=[2, 298] },\n",
       "  \u001b[1m(v, 37, v)\u001b[0m={ edge_index=[2, 298] },\n",
       "  \u001b[1m(v, 38, v)\u001b[0m={ edge_index=[2, 239] },\n",
       "  \u001b[1m(v, 39, v)\u001b[0m={ edge_index=[2, 239] },\n",
       "  \u001b[1m(v, 40, v)\u001b[0m={ edge_index=[2, 227] },\n",
       "  \u001b[1m(v, 41, v)\u001b[0m={ edge_index=[2, 227] },\n",
       "  \u001b[1m(v, 42, v)\u001b[0m={ edge_index=[2, 227] },\n",
       "  \u001b[1m(v, 43, v)\u001b[0m={ edge_index=[2, 227] },\n",
       "  \u001b[1m(v, 44, v)\u001b[0m={ edge_index=[2, 202] },\n",
       "  \u001b[1m(v, 45, v)\u001b[0m={ edge_index=[2, 202] },\n",
       "  \u001b[1m(v, 46, v)\u001b[0m={ edge_index=[2, 200] },\n",
       "  \u001b[1m(v, 47, v)\u001b[0m={ edge_index=[2, 200] },\n",
       "  \u001b[1m(v, 48, v)\u001b[0m={ edge_index=[2, 199] },\n",
       "  \u001b[1m(v, 49, v)\u001b[0m={ edge_index=[2, 199] },\n",
       "  \u001b[1m(v, 50, v)\u001b[0m={ edge_index=[2, 190] },\n",
       "  \u001b[1m(v, 51, v)\u001b[0m={ edge_index=[2, 190] },\n",
       "  \u001b[1m(v, 52, v)\u001b[0m={ edge_index=[2, 161] },\n",
       "  \u001b[1m(v, 53, v)\u001b[0m={ edge_index=[2, 161] },\n",
       "  \u001b[1m(v, 54, v)\u001b[0m={ edge_index=[2, 152] },\n",
       "  \u001b[1m(v, 55, v)\u001b[0m={ edge_index=[2, 152] },\n",
       "  \u001b[1m(v, 56, v)\u001b[0m={ edge_index=[2, 152] },\n",
       "  \u001b[1m(v, 57, v)\u001b[0m={ edge_index=[2, 152] },\n",
       "  \u001b[1m(v, 58, v)\u001b[0m={ edge_index=[2, 148] },\n",
       "  \u001b[1m(v, 59, v)\u001b[0m={ edge_index=[2, 148] },\n",
       "  \u001b[1m(v, 60, v)\u001b[0m={ edge_index=[2, 145] },\n",
       "  \u001b[1m(v, 61, v)\u001b[0m={ edge_index=[2, 145] },\n",
       "  \u001b[1m(v, 62, v)\u001b[0m={ edge_index=[2, 129] },\n",
       "  \u001b[1m(v, 63, v)\u001b[0m={ edge_index=[2, 129] },\n",
       "  \u001b[1m(v, 64, v)\u001b[0m={ edge_index=[2, 114] },\n",
       "  \u001b[1m(v, 65, v)\u001b[0m={ edge_index=[2, 114] },\n",
       "  \u001b[1m(v, 66, v)\u001b[0m={ edge_index=[2, 79] },\n",
       "  \u001b[1m(v, 67, v)\u001b[0m={ edge_index=[2, 79] },\n",
       "  \u001b[1m(v, 68, v)\u001b[0m={ edge_index=[2, 79] },\n",
       "  \u001b[1m(v, 69, v)\u001b[0m={ edge_index=[2, 79] },\n",
       "  \u001b[1m(v, 70, v)\u001b[0m={ edge_index=[2, 68] },\n",
       "  \u001b[1m(v, 71, v)\u001b[0m={ edge_index=[2, 68] },\n",
       "  \u001b[1m(v, 72, v)\u001b[0m={ edge_index=[2, 65] },\n",
       "  \u001b[1m(v, 73, v)\u001b[0m={ edge_index=[2, 65] },\n",
       "  \u001b[1m(v, 74, v)\u001b[0m={ edge_index=[2, 50] },\n",
       "  \u001b[1m(v, 75, v)\u001b[0m={ edge_index=[2, 50] },\n",
       "  \u001b[1m(v, 76, v)\u001b[0m={ edge_index=[2, 49] },\n",
       "  \u001b[1m(v, 77, v)\u001b[0m={ edge_index=[2, 49] },\n",
       "  \u001b[1m(v, 78, v)\u001b[0m={ edge_index=[2, 16] },\n",
       "  \u001b[1m(v, 79, v)\u001b[0m={ edge_index=[2, 16] },\n",
       "  \u001b[1m(v, 80, v)\u001b[0m={ edge_index=[2, 15] },\n",
       "  \u001b[1m(v, 81, v)\u001b[0m={ edge_index=[2, 15] },\n",
       "  \u001b[1m(v, 82, v)\u001b[0m={ edge_index=[2, 12] },\n",
       "  \u001b[1m(v, 83, v)\u001b[0m={ edge_index=[2, 12] },\n",
       "  \u001b[1m(v, 84, v)\u001b[0m={ edge_index=[2, 10] },\n",
       "  \u001b[1m(v, 85, v)\u001b[0m={ edge_index=[2, 10] },\n",
       "  \u001b[1m(v, 86, v)\u001b[0m={ edge_index=[2, 5] },\n",
       "  \u001b[1m(v, 87, v)\u001b[0m={ edge_index=[2, 5] },\n",
       "  \u001b[1m(v, 88, v)\u001b[0m={ edge_index=[2, 1] },\n",
       "  \u001b[1m(v, 89, v)\u001b[0m={ edge_index=[2, 1] }\n",
       ")"
      ]
     },
     "execution_count": 20,
     "metadata": {},
     "output_type": "execute_result"
    }
   ],
   "source": [
    "hgraph2"
   ]
  },
  {
   "cell_type": "code",
   "execution_count": null,
   "metadata": {},
   "outputs": [],
   "source": [
    "net = RGCN(feature_dim=graph.num_nodes,\n",
    "               hidden_dim=args.hidden_dim,\n",
    "               num_class=int(dataset.num_classes),\n",
    "               num_relations=dataset.num_relations,name=\"RGCN\")"
   ]
  }
 ],
 "metadata": {
  "kernelspec": {
   "display_name": "Python 3.8.13 ('ggl')",
   "language": "python",
   "name": "python3"
  },
  "language_info": {
   "codemirror_mode": {
    "name": "ipython",
    "version": 3
   },
   "file_extension": ".py",
   "mimetype": "text/x-python",
   "name": "python",
   "nbconvert_exporter": "python",
   "pygments_lexer": "ipython3",
   "version": "3.8.13"
  },
  "orig_nbformat": 4,
  "vscode": {
   "interpreter": {
    "hash": "63ad0c18fa9828d0cf00ee63d40ee68816654c1dbece7b903cf353caaba217d9"
   }
  }
 },
 "nbformat": 4,
 "nbformat_minor": 2
}
