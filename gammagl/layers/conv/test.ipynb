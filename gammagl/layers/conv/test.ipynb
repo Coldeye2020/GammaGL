{
 "cells": [
  {
   "cell_type": "code",
   "execution_count": 2,
   "metadata": {},
   "outputs": [
    {
     "ename": "ModuleNotFoundError",
     "evalue": "No module named 'gammagl'",
     "output_type": "error",
     "traceback": [
      "\u001b[0;31m---------------------------------------------------------------------------\u001b[0m",
      "\u001b[0;31mModuleNotFoundError\u001b[0m                       Traceback (most recent call last)",
      "\u001b[1;32m/Users/coldeye/git_repo/GammaGL/gammagl/layers/conv/test.ipynb Cell 1\u001b[0m in \u001b[0;36m<cell line: 2>\u001b[0;34m()\u001b[0m\n\u001b[1;32m      <a href='vscode-notebook-cell:/Users/coldeye/git_repo/GammaGL/gammagl/layers/conv/test.ipynb#W0sZmlsZQ%3D%3D?line=0'>1</a>\u001b[0m \u001b[39mimport\u001b[39;00m \u001b[39mtensorlayerx\u001b[39;00m \u001b[39mas\u001b[39;00m \u001b[39mtlx\u001b[39;00m\n\u001b[0;32m----> <a href='vscode-notebook-cell:/Users/coldeye/git_repo/GammaGL/gammagl/layers/conv/test.ipynb#W0sZmlsZQ%3D%3D?line=1'>2</a>\u001b[0m \u001b[39mimport\u001b[39;00m \u001b[39mgammagl\u001b[39;00m \u001b[39mas\u001b[39;00m \u001b[39mggl\u001b[39;00m\n",
      "\u001b[0;31mModuleNotFoundError\u001b[0m: No module named 'gammagl'"
     ]
    }
   ],
   "source": [
    "import tensorlayerx as tlx\n",
    "import sys\n",
    "import gammagl as ggl"
   ]
  },
  {
   "cell_type": "code",
   "execution_count": null,
   "metadata": {},
   "outputs": [],
   "source": []
  }
 ],
 "metadata": {
  "kernelspec": {
   "display_name": "Python 3.8.13 ('ggl')",
   "language": "python",
   "name": "python3"
  },
  "language_info": {
   "codemirror_mode": {
    "name": "ipython",
    "version": 3
   },
   "file_extension": ".py",
   "mimetype": "text/x-python",
   "name": "python",
   "nbconvert_exporter": "python",
   "pygments_lexer": "ipython3",
   "version": "3.8.13"
  },
  "orig_nbformat": 4,
  "vscode": {
   "interpreter": {
    "hash": "63ad0c18fa9828d0cf00ee63d40ee68816654c1dbece7b903cf353caaba217d9"
   }
  }
 },
 "nbformat": 4,
 "nbformat_minor": 2
}
